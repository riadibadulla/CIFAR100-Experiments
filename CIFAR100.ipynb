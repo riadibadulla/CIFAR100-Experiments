{
  "cells": [
    {
      "cell_type": "markdown",
      "metadata": {
        "id": "view-in-github",
        "colab_type": "text"
      },
      "source": [
        "<a href=\"https://colab.research.google.com/github/riadibadulla/CIFAR100-Experiments/blob/main/CIFAR100.ipynb\" target=\"_parent\"><img src=\"https://colab.research.google.com/assets/colab-badge.svg\" alt=\"Open In Colab\"/></a>"
      ]
    },
    {
      "cell_type": "code",
      "execution_count": null,
      "metadata": {
        "colab": {
          "base_uri": "https://localhost:8080/"
        },
        "id": "Suc1HsymVlj0",
        "outputId": "8829ed28-9884-4c3f-f104-8d7a0e7c9168"
      },
      "outputs": [
        {
          "output_type": "stream",
          "name": "stdout",
          "text": [
            "cuda:0\n"
          ]
        }
      ],
      "source": [
        "import torch\n",
        "import torchvision\n",
        "import torchvision.transforms as transforms\n",
        "\n",
        "torch.cuda.empty_cache()\n",
        "import gc\n",
        "gc.collect()\n",
        "\n",
        "device = torch.device('cuda:0' if torch.cuda.is_available() else 'cpu')\n",
        "print(device)"
      ]
    },
    {
      "cell_type": "code",
      "execution_count": null,
      "metadata": {
        "colab": {
          "base_uri": "https://localhost:8080/",
          "height": 101,
          "referenced_widgets": [
            "20bddb0d6a0f483b9a31acc3706e5e7c",
            "4c2ed0c8e0614e28ae93e39cca57c1e1",
            "e4dc733eea294e118fbdf68bcd822397",
            "c8de8a29e4da40dc86e251a2e58911a0",
            "90c763ac653e484ea966f371e874807e",
            "149fe49bbea84974ad983bb6be68474d",
            "a487d166b5ad4eb2a1064e4d99cba2ff",
            "4997d4640a7b4e4bbfc8e68128ac8f31",
            "f2daf56f296a47a0b40581300744bd4f",
            "9ea56d4cea7947969f8c133a3f308ec1",
            "64ba973181cd439db01aa2315a501781"
          ]
        },
        "id": "AKc8QnwBVmli",
        "outputId": "4cc43d60-e7a6-434f-ecf4-709a12c2f048"
      },
      "outputs": [
        {
          "output_type": "stream",
          "name": "stdout",
          "text": [
            "Downloading https://www.cs.toronto.edu/~kriz/cifar-100-python.tar.gz to ./data/cifar-100-python.tar.gz\n"
          ]
        },
        {
          "output_type": "display_data",
          "data": {
            "application/vnd.jupyter.widget-view+json": {
              "model_id": "20bddb0d6a0f483b9a31acc3706e5e7c",
              "version_minor": 0,
              "version_major": 2
            },
            "text/plain": [
              "  0%|          | 0/169001437 [00:00<?, ?it/s]"
            ]
          },
          "metadata": {}
        },
        {
          "output_type": "stream",
          "name": "stdout",
          "text": [
            "Extracting ./data/cifar-100-python.tar.gz to ./data\n",
            "Files already downloaded and verified\n"
          ]
        }
      ],
      "source": [
        "transform = transforms.Compose(\n",
        "    [transforms.ToTensor(),\n",
        "    #  transforms.Resize(40),\n",
        "     transforms.RandomHorizontalFlip(),\n",
        "     transforms.Normalize((0.5, 0.5, 0.5), (0.5, 0.5, 0.5))])\n",
        "\n",
        "batch_size = 16\n",
        "\n",
        "trainset = torchvision.datasets.CIFAR100(root='./data', train=True,\n",
        "                                        download=True, transform=transform)\n",
        "\n",
        "train_set, val_set = torch.utils.data.random_split(trainset, [40000, 10000])\n",
        "\n",
        "validationloader = torch.utils.data.DataLoader(val_set, batch_size=32,\n",
        "                                          shuffle=True, num_workers=2)\n",
        "\n",
        "trainloader = torch.utils.data.DataLoader(train_set, batch_size=batch_size,\n",
        "                                          shuffle=True, num_workers=2)\n",
        "\n",
        "testset = torchvision.datasets.CIFAR100(root='./data', train=False,\n",
        "                                       download=True, transform=transform)\n",
        "testloader = torch.utils.data.DataLoader(testset, batch_size=batch_size,\n",
        "                                         shuffle=False, num_workers=2)\n",
        "\n",
        "\n",
        "classes = ('apple','aquarium_fish','baby','bear','beaver','bed','bee','beetle','bicycle','bottle',' bowl',' boy',' bridge',' bus',' butterfly',' camel',\n",
        "          ' can',' castle',' caterpillar',' cattle',' chair',' chimpanzee',' clock',' cloud',' cockroach',' couch',' cra',' crocodile',' cup',' dinosaur',' dolphin',\n",
        "          ' elephant',' flatfish',' forest',' fox',' girl',' hamster',' house',' kangaroo',' keyboard',' lamp',' lawn_mower',' leopard',' lion',' lizard',' lobster',' man',\n",
        "          ' maple_tree',' motorcycle',' mountain',' mouse',' mushroom',' oak_tree',' orange',' orchid',' otter',' palm_tree',' pear',' pickup_truck',' pine_tree',' plain',' plate',\n",
        "          ' poppy',' porcupine',' possum',' rabbit',' raccoon',' ray',' road',' rocket',' rose',' sea',' seal',' shark',' shrew',' skunk',' skyscraper',\n",
        "          'snail',' snake',' spider',' squirrel',' streetcar',' sunflower',' sweet_pepper',' table',' tank',' telephone',' television',\n",
        "          ' tiger',' tractor',' train',' trout',' tulip',' turtle',' wardrobe',' whale',' willow_tree',' wolf',' woman',' worm')"
      ]
    },
    {
      "cell_type": "code",
      "execution_count": null,
      "metadata": {
        "colab": {
          "base_uri": "https://localhost:8080/",
          "height": 172
        },
        "id": "uiA_oaWIVwQK",
        "outputId": "f7b599a3-ca54-48f7-ebbc-b9140c491839"
      },
      "outputs": [
        {
          "output_type": "display_data",
          "data": {
            "image/png": "[encoded data removed]",
            "text/plain": [
              "<Figure size 432x288 with 1 Axes>"
            ]
          },
          "metadata": {
            "needs_background": "light"
          }
        },
        {
          "output_type": "stream",
          "name": "stdout",
          "text": [
            "tensor([76, 51, 39, 53, 53, 44, 82, 70, 26,  0, 26, 32,  6, 82, 84, 88])\n",
            " skyscraper  mushroom  keyboard  orange  orange  lizard  sunflower  rose  cra  apple  cra   flatfish bee    sunflower  table  tiger\n"
          ]
        }
      ],
      "source": [
        "import matplotlib.pyplot as plt\n",
        "import numpy as np\n",
        "\n",
        "# functions to show an image\n",
        "\n",
        "\n",
        "def imshow(img):\n",
        "    img = img / 2 + 0.5     # unnormalize\n",
        "    npimg = img.numpy()\n",
        "    plt.imshow(np.transpose(npimg, (1, 2, 0)))\n",
        "    plt.show()\n",
        "\n",
        "\n",
        "# get some random training images\n",
        "dataiter = iter(trainloader)\n",
        "images, labels = dataiter.next()\n",
        "\n",
        "valiter = iter(validationloader)\n",
        "val_images,val_labels = valiter.next()\n",
        "\n",
        "\n",
        "\n",
        "val_images, val_labels = val_images.to(device), val_labels.to(device)\n",
        "\n",
        "# show images\n",
        "imshow(torchvision.utils.make_grid(images))\n",
        "# print labels\n",
        "print(labels)\n",
        "print(' '.join(f'{classes[labels[j]]:5s}' for j in range(batch_size)))"
      ]
    },
    {
      "cell_type": "markdown",
      "metadata": {
        "id": "SsinGPIotL-H"
      },
      "source": [
        "My Custom Network"
      ]
    },
    {
      "cell_type": "code",
      "execution_count": null,
      "metadata": {
        "colab": {
          "base_uri": "https://localhost:8080/"
        },
        "id": "l2bjifqyV63R",
        "outputId": "85f1cf1c-c24d-4754-891c-1109e1fc365b"
      },
      "outputs": [
        {
          "output_type": "execute_result",
          "data": {
            "text/plain": [
              "CrossEntropyLoss()"
            ]
          },
          "metadata": {},
          "execution_count": 26
        }
      ],
      "source": [
        "import torch.nn as nn\n",
        "import torch.nn.functional as F\n",
        "\n",
        "def conv_block(in_channels, out_channels, pool=False):\n",
        "  layers = [nn.Conv2d(in_channels, out_channels, kernel_size=3, padding=1),\n",
        "            nn.BatchNorm2d(out_channels),\n",
        "            nn.ReLU(inplace=True)]\n",
        "  if pool:\n",
        "    layers.append(nn.MaxPool2d(2))\n",
        "  return nn.Sequential(*layers)\n",
        "\n",
        "class Net(nn.Module):\n",
        "    def __init__(self):\n",
        "        super().__init__()\n",
        "        self.conv1 = conv_block(3,64)\n",
        "        self.conv2 = conv_block(64,128,pool=True)\n",
        "        self.res1 = nn.Sequential(conv_block(128,128), conv_block(128,128))\n",
        "        self.conv3 = conv_block(128,256,pool=True)\n",
        "        self.conv4 = conv_block(256,512,pool=True)\n",
        "        self.res2 = nn.Sequential(conv_block(512,512), conv_block(512,512))\n",
        "        self.conv5 = conv_block(512,1028,pool=True)\n",
        "        self.res3 = nn.Sequential(conv_block(1028,1028), conv_block(1028,1028))\n",
        "        self.classifier = nn.Sequential(nn.MaxPool2d(2), \n",
        "                                        nn.Flatten(), \n",
        "                                        nn.Linear(1028, 100))\n",
        "\n",
        "\n",
        "    def forward(self, x):\n",
        "        x = self.conv1(x)\n",
        "        x = self.conv2(x)\n",
        "        x = self.res1(x)+x\n",
        "        x = self.conv3(x)\n",
        "        x = self.conv4(x)\n",
        "        x = self.res2(x)+x\n",
        "        x = self.conv5(x)\n",
        "        x = self.res3(x)+x\n",
        "        x = self.classifier(x)\n",
        "        return x\n",
        "\n",
        "\n",
        "net = Net()\n",
        "\n",
        "import torch.optim as optim\n",
        "\n",
        "criterion = nn.CrossEntropyLoss()\n",
        "optimizer = optim.SGD(net.parameters(), lr=0.001, momentum=0.9)\n",
        "net.to(device)\n",
        "criterion.to(device)"
      ]
    },
    {
      "cell_type": "markdown",
      "metadata": {
        "id": "tXFhWI36tRZs"
      },
      "source": [
        "## **Transfer Learning**"
      ]
    },
    {
      "cell_type": "markdown",
      "metadata": {
        "id": "HQuEvH-nZI5F"
      },
      "source": [
        "ResNet"
      ]
    },
    {
      "cell_type": "code",
      "execution_count": null,
      "metadata": {
        "colab": {
          "base_uri": "https://localhost:8080/"
        },
        "id": "Tdzv1G0Gu03c",
        "outputId": "6fb6e97b-1243-415d-9012-d66edb0356be"
      },
      "outputs": [
        {
          "output_type": "stream",
          "name": "stdout",
          "text": [
            "512\n"
          ]
        },
        {
          "output_type": "execute_result",
          "data": {
            "text/plain": [
              "CrossEntropyLoss()"
            ]
          },
          "metadata": {},
          "execution_count": 23
        }
      ],
      "source": [
        "import torch.nn as nn\n",
        "import torch.nn.functional as F\n",
        "\n",
        "class Lastlayers(nn.Module):\n",
        "    def __init__(self):\n",
        "        super().__init__()\n",
        "        self.fc1 = nn.Linear(512,256)\n",
        "        self.fc2 = nn.Linear(256,100)\n",
        "        \n",
        "\n",
        "    def forward(self, x):\n",
        "        x = F.elu(self.fc1(x))\n",
        "        x = self.fc2(x)\n",
        "        return x\n",
        "\n",
        "net = torchvision.models.resnet18(pretrained=True)\n",
        "net.conv1 = nn.Conv2d(3, 64, kernel_size=(3, 3), padding=(1, 1), bias=False)\n",
        "for i, param in enumerate(net.parameters()):\n",
        "    if i==0:\n",
        "      continue\n",
        "    param.requires_grad = False\n",
        "\n",
        "num_ftrs = net.fc.in_features\n",
        "print(num_ftrs)\n",
        "net.fc = Lastlayers()\n",
        "\n",
        "import torch.optim as optim\n",
        "\n",
        "criterion = nn.CrossEntropyLoss()\n",
        "optimizer = optim.Adam(net.parameters(), lr=0.01)\n",
        "\n",
        "# print(net)\n",
        "net.to(device)\n",
        "criterion.to(device)"
      ]
    },
    {
      "cell_type": "markdown",
      "metadata": {
        "id": "NAw7QNyyZO7Y"
      },
      "source": [
        "VGG11"
      ]
    },
    {
      "cell_type": "code",
      "execution_count": null,
      "metadata": {
        "colab": {
          "base_uri": "https://localhost:8080/",
          "height": 1000,
          "referenced_widgets": [
            "5988ed5ee1f04588a2dc996c766020b4",
            "c2d746683c144d4e9073817e0c015637",
            "469e287d570245cca3957799b592236e",
            "737c706df9e2418bb5968c388b3c23bb",
            "ab3e1648e71d468893461635020b1f95",
            "2df7f4b51026441596a69ef5ce0501ca",
            "0a2df53f0a58425da91eda7c71c3b43f",
            "cd5a2e641bac4044b750b80c6057b8f1",
            "a6357082802144ffb28197e17a035f38",
            "b949f3651052432fa607ac0c92fb2682",
            "0a16023c1ea3415a8810dee49d2ac35e"
          ]
        },
        "id": "xkR3NLAgZRBR",
        "outputId": "de94702d-a8f9-425b-a121-a994cfce0db7"
      },
      "outputs": [
        {
          "output_type": "stream",
          "name": "stderr",
          "text": [
            "Downloading: \"https://download.pytorch.org/models/vgg11-8a719046.pth\" to /root/.cache/torch/hub/checkpoints/vgg11-8a719046.pth\n"
          ]
        },
        {
          "output_type": "display_data",
          "data": {
            "application/vnd.jupyter.widget-view+json": {
              "model_id": "5988ed5ee1f04588a2dc996c766020b4",
              "version_minor": 0,
              "version_major": 2
            },
            "text/plain": [
              "  0%|          | 0.00/507M [00:00<?, ?B/s]"
            ]
          },
          "metadata": {}
        },
        {
          "output_type": "stream",
          "name": "stdout",
          "text": [
            "VGG(\n",
            "  (features): Sequential(\n",
            "    (0): Conv2d(3, 64, kernel_size=(3, 3), stride=(1, 1), padding=(1, 1))\n",
            "    (1): ReLU(inplace=True)\n",
            "    (2): MaxPool2d(kernel_size=2, stride=2, padding=0, dilation=1, ceil_mode=False)\n",
            "    (3): Conv2d(64, 128, kernel_size=(3, 3), stride=(1, 1), padding=(1, 1))\n",
            "    (4): ReLU(inplace=True)\n",
            "    (5): MaxPool2d(kernel_size=2, stride=2, padding=0, dilation=1, ceil_mode=False)\n",
            "    (6): Conv2d(128, 256, kernel_size=(3, 3), stride=(1, 1), padding=(1, 1))\n",
            "    (7): ReLU(inplace=True)\n",
            "    (8): Conv2d(256, 256, kernel_size=(3, 3), stride=(1, 1), padding=(1, 1))\n",
            "    (9): ReLU(inplace=True)\n",
            "    (10): MaxPool2d(kernel_size=2, stride=2, padding=0, dilation=1, ceil_mode=False)\n",
            "    (11): Conv2d(256, 512, kernel_size=(3, 3), stride=(1, 1), padding=(1, 1))\n",
            "    (12): ReLU(inplace=True)\n",
            "    (13): Conv2d(512, 512, kernel_size=(3, 3), stride=(1, 1), padding=(1, 1))\n",
            "    (14): ReLU(inplace=True)\n",
            "    (15): MaxPool2d(kernel_size=2, stride=2, padding=0, dilation=1, ceil_mode=False)\n",
            "    (16): Conv2d(512, 512, kernel_size=(3, 3), stride=(1, 1), padding=(1, 1))\n",
            "    (17): ReLU(inplace=True)\n",
            "    (18): Conv2d(512, 512, kernel_size=(3, 3), stride=(1, 1), padding=(1, 1))\n",
            "    (19): ReLU(inplace=True)\n",
            "    (20): MaxPool2d(kernel_size=2, stride=2, padding=0, dilation=1, ceil_mode=False)\n",
            "  )\n",
            "  (avgpool): AdaptiveAvgPool2d(output_size=(7, 7))\n",
            "  (classifier): Sequential(\n",
            "    (0): Linear(in_features=25088, out_features=4096, bias=True)\n",
            "    (1): ReLU(inplace=True)\n",
            "    (2): Dropout(p=0.5, inplace=False)\n",
            "    (3): Linear(in_features=4096, out_features=4096, bias=True)\n",
            "    (4): ReLU(inplace=True)\n",
            "    (5): Dropout(p=0.5, inplace=False)\n",
            "    (6): Linear(in_features=4096, out_features=1000, bias=True)\n",
            "  )\n",
            ")\n",
            "VGG(\n",
            "  (features): Sequential(\n",
            "    (0): Conv2d(3, 64, kernel_size=(3, 3), stride=(1, 1), padding=(1, 1))\n",
            "    (1): ReLU(inplace=True)\n",
            "    (2): MaxPool2d(kernel_size=2, stride=2, padding=0, dilation=1, ceil_mode=False)\n",
            "    (3): Conv2d(64, 128, kernel_size=(3, 3), stride=(1, 1), padding=(1, 1))\n",
            "    (4): ReLU(inplace=True)\n",
            "    (5): MaxPool2d(kernel_size=2, stride=2, padding=0, dilation=1, ceil_mode=False)\n",
            "    (6): Conv2d(128, 256, kernel_size=(3, 3), stride=(1, 1), padding=(1, 1))\n",
            "    (7): ReLU(inplace=True)\n",
            "    (8): Conv2d(256, 256, kernel_size=(3, 3), stride=(1, 1), padding=(1, 1))\n",
            "    (9): ReLU(inplace=True)\n",
            "    (10): MaxPool2d(kernel_size=2, stride=2, padding=0, dilation=1, ceil_mode=False)\n",
            "    (11): Conv2d(256, 512, kernel_size=(3, 3), stride=(1, 1), padding=(1, 1))\n",
            "    (12): ReLU(inplace=True)\n",
            "    (13): Conv2d(512, 512, kernel_size=(3, 3), stride=(1, 1), padding=(1, 1))\n",
            "    (14): ReLU(inplace=True)\n",
            "    (15): MaxPool2d(kernel_size=2, stride=2, padding=0, dilation=1, ceil_mode=False)\n",
            "    (16): Conv2d(512, 512, kernel_size=(3, 3), stride=(1, 1), padding=(1, 1))\n",
            "    (17): ReLU(inplace=True)\n",
            "    (18): Conv2d(512, 512, kernel_size=(3, 3), stride=(1, 1), padding=(1, 1))\n",
            "    (19): ReLU(inplace=True)\n",
            "    (20): MaxPool2d(kernel_size=2, stride=2, padding=0, dilation=1, ceil_mode=False)\n",
            "  )\n",
            "  (avgpool): AdaptiveAvgPool2d(output_size=(3, 3))\n",
            "  (classifier): Lastlayers(\n",
            "    (fc1): Linear(in_features=4608, out_features=512, bias=True)\n",
            "    (fc2): Linear(in_features=512, out_features=100, bias=True)\n",
            "  )\n",
            ")\n"
          ]
        },
        {
          "output_type": "execute_result",
          "data": {
            "text/plain": [
              "CrossEntropyLoss()"
            ]
          },
          "metadata": {},
          "execution_count": 22
        }
      ],
      "source": [
        "import torch.nn as nn\n",
        "import torch.nn.functional as F\n",
        "\n",
        "class Lastlayers(nn.Module):\n",
        "    def __init__(self):\n",
        "        super().__init__()\n",
        "        self.fc1 = nn.Linear(4608,512)\n",
        "        self.fc2 = nn.Linear(512,100)\n",
        "        \n",
        "\n",
        "    def forward(self, x):\n",
        "        x = F.elu(self.fc1(x))\n",
        "        x = self.fc2(x)\n",
        "        return x\n",
        "\n",
        "net = torchvision.models.vgg11(pretrained=True)\n",
        "for param in net.parameters():\n",
        "    param.requires_grad = False\n",
        "print(net)\n",
        "net.avgpool = nn.AdaptiveAvgPool2d((3, 3))\n",
        "net.classifier = Lastlayers()\n",
        "\n",
        "import torch.optim as optim\n",
        "\n",
        "criterion = nn.CrossEntropyLoss()\n",
        "optimizer = optim.SGD(net.parameters(), lr=0.001, momentum=0.9)\n",
        "\n",
        "print(net)\n",
        "net.to(device)\n",
        "criterion.to(device)"
      ]
    },
    {
      "cell_type": "code",
      "execution_count": null,
      "metadata": {
        "colab": {
          "base_uri": "https://localhost:8080/",
          "height": 686
        },
        "id": "xbj_hY09V_TP",
        "outputId": "5611eee9-2697-4942-ab5c-8eeea12e8362"
      },
      "outputs": [
        {
          "output_type": "stream",
          "name": "stdout",
          "text": [
            "Epoch1:      loss: 2.736 accuaracy: 17% val_loss: 3.3510992527008057 val_acc: 27\n",
            "Epoch2:      loss: 3.221 accuaracy: 35% val_loss: 3.0199146270751953 val_acc: 38\n",
            "Epoch3:      loss: 1.349 accuaracy: 46% val_loss: 1.6280455589294434 val_acc: 46\n",
            "Epoch4:      loss: 1.391 accuaracy: 54% val_loss: 0.911482572555542 val_acc: 49\n",
            "Epoch5:      loss: 1.419 accuaracy: 60% val_loss: 1.960017204284668 val_acc: 51\n",
            "Epoch6:      loss: 1.422 accuaracy: 67% val_loss: 2.608015298843384 val_acc: 52\n",
            "Epoch7:      loss: 0.879 accuaracy: 73% val_loss: 0.7259517312049866 val_acc: 54\n",
            "Epoch8:      loss: 0.719 accuaracy: 79% val_loss: 1.233097791671753 val_acc: 55\n",
            "Epoch9:      loss: 0.216 accuaracy: 84% val_loss: 2.3353028297424316 val_acc: 56\n",
            "Epoch10:      loss: 0.114 accuaracy: 89% val_loss: 1.4551959037780762 val_acc: 58\n",
            "Epoch11:      loss: 0.491 accuaracy: 92% val_loss: 4.164843559265137 val_acc: 58\n",
            "Epoch12:      loss: 0.142 accuaracy: 94% val_loss: 1.3545653820037842 val_acc: 59\n",
            "Epoch13:      loss: 0.083 accuaracy: 96% val_loss: 1.0995972156524658 val_acc: 58\n",
            "Epoch14:      loss: 0.057 accuaracy: 97% val_loss: 2.375654935836792 val_acc: 60\n",
            "Epoch15:      loss: 0.010 accuaracy: 98% val_loss: 1.4672701358795166 val_acc: 61\n",
            "Epoch16:      loss: 0.025 accuaracy: 99% val_loss: 1.792636513710022 val_acc: 61\n",
            "Epoch17:      loss: 0.059 accuaracy: 99% val_loss: 2.508819103240967 val_acc: 62\n",
            "Epoch18:      loss: 0.002 accuaracy: 99% val_loss: 2.8995962142944336 val_acc: 62\n",
            "Epoch19:      loss: 0.008 accuaracy: 99% val_loss: 1.1753921508789062 val_acc: 62\n",
            "Epoch20:      loss: 0.006 accuaracy: 99% val_loss: 1.8519830703735352 val_acc: 63\n",
            "Epoch21:      loss: 0.002 accuaracy: 99% val_loss: 1.8042116165161133 val_acc: 63\n",
            "Epoch22:      loss: 0.001 accuaracy: 99% val_loss: 3.6187801361083984 val_acc: 63\n",
            "Epoch23:      loss: 0.003 accuaracy: 99% val_loss: 0.5368503928184509 val_acc: 63\n",
            "Epoch24:      loss: 0.001 accuaracy: 99% val_loss: 2.3829474449157715 val_acc: 63\n",
            "Epoch25:      loss: 0.002 accuaracy: 99% val_loss: 2.5559422969818115 val_acc: 63\n",
            "Epoch26:      loss: 0.000 accuaracy: 99% val_loss: 2.1012537479400635 val_acc: 63\n"
          ]
        },
        {
          "output_type": "error",
          "ename": "KeyboardInterrupt",
          "evalue": "ignored",
          "traceback": [
            "\u001b[0;31m---------------------------------------------------------------------------\u001b[0m",
            "\u001b[0;31mKeyboardInterrupt\u001b[0m                         Traceback (most recent call last)",
            "\u001b[0;32m<ipython-input-27-7dd74632a302>\u001b[0m in \u001b[0;36m<module>\u001b[0;34m()\u001b[0m\n\u001b[1;32m     28\u001b[0m         \u001b[0;31m# print statistics\u001b[0m\u001b[0;34m\u001b[0m\u001b[0;34m\u001b[0m\u001b[0;34m\u001b[0m\u001b[0m\n\u001b[1;32m     29\u001b[0m         \u001b[0;32mwith\u001b[0m \u001b[0mtorch\u001b[0m\u001b[0;34m.\u001b[0m\u001b[0mno_grad\u001b[0m\u001b[0;34m(\u001b[0m\u001b[0;34m)\u001b[0m\u001b[0;34m:\u001b[0m\u001b[0;34m\u001b[0m\u001b[0;34m\u001b[0m\u001b[0m\n\u001b[0;32m---> 30\u001b[0;31m           \u001b[0mrunning_loss\u001b[0m \u001b[0;34m=\u001b[0m \u001b[0mloss\u001b[0m\u001b[0;34m.\u001b[0m\u001b[0mitem\u001b[0m\u001b[0;34m(\u001b[0m\u001b[0;34m)\u001b[0m\u001b[0;34m\u001b[0m\u001b[0;34m\u001b[0m\u001b[0m\n\u001b[0m\u001b[1;32m     31\u001b[0m           \u001b[0m_\u001b[0m\u001b[0;34m,\u001b[0m \u001b[0mpredicted\u001b[0m \u001b[0;34m=\u001b[0m \u001b[0mtorch\u001b[0m\u001b[0;34m.\u001b[0m\u001b[0mmax\u001b[0m\u001b[0;34m(\u001b[0m\u001b[0moutputs\u001b[0m\u001b[0;34m.\u001b[0m\u001b[0mdata\u001b[0m\u001b[0;34m,\u001b[0m \u001b[0;36m1\u001b[0m\u001b[0;34m)\u001b[0m\u001b[0;34m\u001b[0m\u001b[0;34m\u001b[0m\u001b[0m\n\u001b[1;32m     32\u001b[0m           \u001b[0mtotal\u001b[0m \u001b[0;34m+=\u001b[0m \u001b[0mlabels\u001b[0m\u001b[0;34m.\u001b[0m\u001b[0msize\u001b[0m\u001b[0;34m(\u001b[0m\u001b[0;36m0\u001b[0m\u001b[0;34m)\u001b[0m\u001b[0;34m\u001b[0m\u001b[0;34m\u001b[0m\u001b[0m\n",
            "\u001b[0;31mKeyboardInterrupt\u001b[0m: "
          ]
        }
      ],
      "source": [
        "PATH = './cifar_net.pth'\n",
        "for epoch in range(50):  # loop over the dataset multiple times\n",
        "    best_val_loss = 10000\n",
        "    running_loss = 0.0\n",
        "    running_accuarcy = 0\n",
        "    val_loss = 0\n",
        "    val_acc = 0\n",
        "    correct = 0\n",
        "    total = 0\n",
        "    total_val = 0\n",
        "    correct_val = 0\n",
        "    for i, data in enumerate(trainloader, 0):\n",
        "        \n",
        "        \n",
        "        # get the inputs; data is a list of [inputs, labels]\n",
        "        net.train()\n",
        "        inputs, labels = data\n",
        "        inputs,labels = inputs.to(device), labels.to(device)\n",
        "        # zero the parameter gradients\n",
        "        optimizer.zero_grad()\n",
        "\n",
        "        # forward + backward + optimize\n",
        "        outputs = net(inputs)\n",
        "        loss = criterion(outputs, labels).to(device)\n",
        "        loss.backward()\n",
        "        optimizer.step()\n",
        "\n",
        "        # print statistics\n",
        "        with torch.no_grad():\n",
        "          running_loss = loss.item()\n",
        "          _, predicted = torch.max(outputs.data, 1)\n",
        "          total += labels.size(0)\n",
        "          correct += (predicted == labels).sum().item()\n",
        "          running_accuarcy = 100 * correct // total\n",
        "        del inputs, labels\n",
        "\n",
        "    for val_data in validationloader:\n",
        "      with torch.no_grad():\n",
        "        val_images, val_labels = val_data\n",
        "        val_images,val_labels = val_images.to(device), val_labels.to(device)\n",
        "        #calculate validation\n",
        "        # val_images, val_labels = val_images.to(device), val_labels.to(device)\n",
        "        net.eval()\n",
        "        y_pred = net(val_images)\n",
        "        val_loss = criterion(y_pred, val_labels).to(device)\n",
        "        _, val_predicted_label = torch.max(y_pred.data, 1)\n",
        "        correct_val += (val_predicted_label == val_labels).sum().item()\n",
        "        total_val += val_labels.size(0)\n",
        "    val_acc = 100 * correct_val // total_val\n",
        "    \n",
        "    print(f'Epoch{epoch + 1}:      loss: {running_loss:.3f} accuaracy: {running_accuarcy}% val_loss: {val_loss} val_acc: {val_acc}')\n",
        "    if val_loss<best_val_loss:\n",
        "      torch.save(net.state_dict(), PATH)\n",
        "print('Finished Training')\n",
        "\n"
      ]
    },
    {
      "cell_type": "markdown",
      "metadata": {
        "id": "b3y6VGCfWF6C"
      },
      "source": [
        "Test"
      ]
    },
    {
      "cell_type": "code",
      "execution_count": null,
      "metadata": {
        "colab": {
          "base_uri": "https://localhost:8080/",
          "height": 1000
        },
        "id": "IdcaRPlNWFXb",
        "outputId": "51e1aad9-2b68-4790-8ae6-48e4002ac09f"
      },
      "outputs": [
        {
          "output_type": "display_data",
          "data": {
            "image/png": "[encoded data removed]",
            "text/plain": [
              "<Figure size 432x288 with 1 Axes>"
            ]
          },
          "metadata": {
            "needs_background": "light"
          }
        },
        {
          "output_type": "stream",
          "name": "stdout",
          "text": [
            "GroundTruth:   mountain  forest  seal  mushroom\n",
            "Predicted:   train  forest  dolphin  mushroom\n",
            "Accuracy of the network on the 10000 test images: 62 %\n",
            "Accuracy for class: apple is 86.0 %\n",
            "Accuracy for class: aquarium_fish is 74.0 %\n",
            "Accuracy for class: baby  is 45.0 %\n",
            "Accuracy for class: bear  is 45.0 %\n",
            "Accuracy for class: beaver is 44.0 %\n",
            "Accuracy for class: bed   is 64.0 %\n",
            "Accuracy for class: bee   is 73.0 %\n",
            "Accuracy for class: beetle is 62.0 %\n",
            "Accuracy for class: bicycle is 72.0 %\n",
            "Accuracy for class: bottle is 75.0 %\n",
            "Accuracy for class:  bowl is 39.0 %\n",
            "Accuracy for class:  boy  is 43.0 %\n",
            "Accuracy for class:  bridge is 65.0 %\n",
            "Accuracy for class:  bus  is 50.0 %\n",
            "Accuracy for class:  butterfly is 55.0 %\n",
            "Accuracy for class:  camel is 64.0 %\n",
            "Accuracy for class:  can  is 65.0 %\n",
            "Accuracy for class:  castle is 81.0 %\n",
            "Accuracy for class:  caterpillar is 50.0 %\n",
            "Accuracy for class:  cattle is 53.0 %\n",
            "Accuracy for class:  chair is 81.0 %\n",
            "Accuracy for class:  chimpanzee is 80.0 %\n",
            "Accuracy for class:  clock is 59.0 %\n",
            "Accuracy for class:  cloud is 79.0 %\n",
            "Accuracy for class:  cockroach is 73.0 %\n",
            "Accuracy for class:  couch is 52.0 %\n",
            "Accuracy for class:  cra  is 63.0 %\n",
            "Accuracy for class:  crocodile is 44.0 %\n",
            "Accuracy for class:  cup  is 77.0 %\n",
            "Accuracy for class:  dinosaur is 61.0 %\n",
            "Accuracy for class:  dolphin is 52.0 %\n",
            "Accuracy for class:  elephant is 58.0 %\n",
            "Accuracy for class:  flatfish is 60.0 %\n",
            "Accuracy for class:  forest is 63.0 %\n",
            "Accuracy for class:  fox  is 71.0 %\n",
            "Accuracy for class:  girl is 34.0 %\n",
            "Accuracy for class:  hamster is 65.0 %\n",
            "Accuracy for class:  house is 66.0 %\n",
            "Accuracy for class:  kangaroo is 47.0 %\n",
            "Accuracy for class:  keyboard is 78.0 %\n",
            "Accuracy for class:  lamp is 52.0 %\n",
            "Accuracy for class:  lawn_mower is 79.0 %\n",
            "Accuracy for class:  leopard is 61.0 %\n",
            "Accuracy for class:  lion is 71.0 %\n",
            "Accuracy for class:  lizard is 33.0 %\n",
            "Accuracy for class:  lobster is 50.0 %\n",
            "Accuracy for class:  man  is 37.0 %\n",
            "Accuracy for class:  maple_tree is 60.0 %\n",
            "Accuracy for class:  motorcycle is 86.0 %\n",
            "Accuracy for class:  mountain is 73.0 %\n",
            "Accuracy for class:  mouse is 38.0 %\n",
            "Accuracy for class:  mushroom is 68.0 %\n",
            "Accuracy for class:  oak_tree is 68.0 %\n",
            "Accuracy for class:  orange is 87.0 %\n",
            "Accuracy for class:  orchid is 70.0 %\n",
            "Accuracy for class:  otter is 31.0 %\n",
            "Accuracy for class:  palm_tree is 85.0 %\n",
            "Accuracy for class:  pear is 67.0 %\n",
            "Accuracy for class:  pickup_truck is 74.0 %\n",
            "Accuracy for class:  pine_tree is 61.0 %\n",
            "Accuracy for class:  plain is 86.0 %\n",
            "Accuracy for class:  plate is 62.0 %\n",
            "Accuracy for class:  poppy is 67.0 %\n",
            "Accuracy for class:  porcupine is 62.0 %\n",
            "Accuracy for class:  possum is 41.0 %\n",
            "Accuracy for class:  rabbit is 47.0 %\n",
            "Accuracy for class:  raccoon is 65.0 %\n",
            "Accuracy for class:  ray  is 45.0 %\n",
            "Accuracy for class:  road is 91.0 %\n",
            "Accuracy for class:  rocket is 71.0 %\n",
            "Accuracy for class:  rose is 66.0 %\n",
            "Accuracy for class:  sea  is 77.0 %\n",
            "Accuracy for class:  seal is 35.0 %\n",
            "Accuracy for class:  shark is 44.0 %\n",
            "Accuracy for class:  shrew is 47.0 %\n",
            "Accuracy for class:  skunk is 86.0 %\n",
            "Accuracy for class:  skyscraper is 84.0 %\n",
            "Accuracy for class: snail is 57.0 %\n",
            "Accuracy for class:  snake is 51.0 %\n",
            "Accuracy for class:  spider is 60.0 %\n",
            "Accuracy for class:  squirrel is 39.0 %\n",
            "Accuracy for class:  streetcar is 64.0 %\n",
            "Accuracy for class:  sunflower is 88.0 %\n",
            "Accuracy for class:  sweet_pepper is 59.0 %\n",
            "Accuracy for class:  table is 58.0 %\n",
            "Accuracy for class:  tank is 73.0 %\n",
            "Accuracy for class:  telephone is 58.0 %\n",
            "Accuracy for class:  television is 70.0 %\n",
            "Accuracy for class:  tiger is 66.0 %\n",
            "Accuracy for class:  tractor is 72.0 %\n",
            "Accuracy for class:  train is 74.0 %\n",
            "Accuracy for class:  trout is 72.0 %\n",
            "Accuracy for class:  tulip is 58.0 %\n",
            "Accuracy for class:  turtle is 42.0 %\n",
            "Accuracy for class:  wardrobe is 85.0 %\n",
            "Accuracy for class:  whale is 68.0 %\n",
            "Accuracy for class:  willow_tree is 54.0 %\n",
            "Accuracy for class:  wolf is 68.0 %\n",
            "Accuracy for class:  woman is 39.0 %\n",
            "Accuracy for class:  worm is 69.0 %\n"
          ]
        }
      ],
      "source": [
        "dataiter = iter(testloader)\n",
        "images, labels = dataiter.next()\n",
        "\n",
        "# print images\n",
        "imshow(torchvision.utils.make_grid(images))\n",
        "print('GroundTruth: ', ' '.join(f'{classes[labels[j]]:5s}' for j in range(4)))\n",
        "net = Net()\n",
        "net.load_state_dict(torch.load(PATH))\n",
        "outputs = net(images)\n",
        "\n",
        "_, predicted = torch.max(outputs, 1)\n",
        "\n",
        "print('Predicted: ', ' '.join(f'{classes[predicted[j]]:5s}'\n",
        "                              for j in range(4)))\n",
        "\n",
        "correct = 0\n",
        "total = 0\n",
        "# since we're not training, we don't need to calculate the gradients for our outputs\n",
        "with torch.no_grad():\n",
        "    for data in testloader:\n",
        "        images, labels = data\n",
        "        # calculate outputs by running images through the network\n",
        "        outputs = net(images)\n",
        "        # the class with the highest energy is what we choose as prediction\n",
        "        _, predicted = torch.max(outputs.data, 1)\n",
        "        total += labels.size(0)\n",
        "        correct += (predicted == labels).sum().item()\n",
        "\n",
        "print(f'Accuracy of the network on the 10000 test images: {100 * correct // total} %')\n",
        "\n",
        "correct_pred = {classname: 0 for classname in classes}\n",
        "total_pred = {classname: 0 for classname in classes}\n",
        "\n",
        "# again no gradients needed\n",
        "with torch.no_grad():\n",
        "    for data in testloader:\n",
        "        images, labels = data\n",
        "        outputs = net(images)\n",
        "        _, predictions = torch.max(outputs, 1)\n",
        "        # collect the correct predictions for each class\n",
        "        for label, prediction in zip(labels, predictions):\n",
        "            if label == prediction:\n",
        "                correct_pred[classes[label]] += 1\n",
        "            total_pred[classes[label]] += 1\n",
        "\n",
        "\n",
        "# print accuracy for each class\n",
        "for classname, correct_count in correct_pred.items():\n",
        "    accuracy = 100 * float(correct_count) / total_pred[classname]\n",
        "    print(f'Accuracy for class: {classname:5s} is {accuracy:.1f} %')"
      ]
    }
  ],
  "metadata": {
    "accelerator": "GPU",
    "colab": {
      "collapsed_sections": [],
      "machine_shape": "hm",
      "name": "CIFAR100.ipynb",
      "provenance": [],
      "include_colab_link": true
    },
    "kernelspec": {
      "display_name": "Python 3",
      "name": "python3"
    },
    "widgets": {
      "application/vnd.jupyter.widget-state+json": {
        "20bddb0d6a0f483b9a31acc3706e5e7c": {
          "model_module": "@jupyter-widgets/controls",
          "model_name": "HBoxModel",
          "model_module_version": "1.5.0",
          "state": {
            "_view_name": "HBoxView",
            "_dom_classes": [],
            "_model_name": "HBoxModel",
            "_view_module": "@jupyter-widgets/controls",
            "_model_module_version": "1.5.0",
            "_view_count": null,
            "_view_module_version": "1.5.0",
            "box_style": "",
            "layout": "IPY_MODEL_4c2ed0c8e0614e28ae93e39cca57c1e1",
            "_model_module": "@jupyter-widgets/controls",
            "children": [
              "IPY_MODEL_e4dc733eea294e118fbdf68bcd822397",
              "IPY_MODEL_c8de8a29e4da40dc86e251a2e58911a0",
              "IPY_MODEL_90c763ac653e484ea966f371e874807e"
            ]
          }
        },
        "4c2ed0c8e0614e28ae93e39cca57c1e1": {
          "model_module": "@jupyter-widgets/base",
          "model_name": "LayoutModel",
          "model_module_version": "1.2.0",
          "state": {
            "_view_name": "LayoutView",
            "grid_template_rows": null,
            "right": null,
            "justify_content": null,
            "_view_module": "@jupyter-widgets/base",
            "overflow": null,
            "_model_module_version": "1.2.0",
            "_view_count": null,
            "flex_flow": null,
            "width": null,
            "min_width": null,
            "border": null,
            "align_items": null,
            "bottom": null,
            "_model_module": "@jupyter-widgets/base",
            "top": null,
            "grid_column": null,
            "overflow_y": null,
            "overflow_x": null,
            "grid_auto_flow": null,
            "grid_area": null,
            "grid_template_columns": null,
            "flex": null,
            "_model_name": "LayoutModel",
            "justify_items": null,
            "grid_row": null,
            "max_height": null,
            "align_content": null,
            "visibility": null,
            "align_self": null,
            "height": null,
            "min_height": null,
            "padding": null,
            "grid_auto_rows": null,
            "grid_gap": null,
            "max_width": null,
            "order": null,
            "_view_module_version": "1.2.0",
            "grid_template_areas": null,
            "object_position": null,
            "object_fit": null,
            "grid_auto_columns": null,
            "margin": null,
            "display": null,
            "left": null
          }
        },
        "e4dc733eea294e118fbdf68bcd822397": {
          "model_module": "@jupyter-widgets/controls",
          "model_name": "HTMLModel",
          "model_module_version": "1.5.0",
          "state": {
            "_view_name": "HTMLView",
            "style": "IPY_MODEL_149fe49bbea84974ad983bb6be68474d",
            "_dom_classes": [],
            "description": "",
            "_model_name": "HTMLModel",
            "placeholder": "​",
            "_view_module": "@jupyter-widgets/controls",
            "_model_module_version": "1.5.0",
            "value": "",
            "_view_count": null,
            "_view_module_version": "1.5.0",
            "description_tooltip": null,
            "_model_module": "@jupyter-widgets/controls",
            "layout": "IPY_MODEL_a487d166b5ad4eb2a1064e4d99cba2ff"
          }
        },
        "c8de8a29e4da40dc86e251a2e58911a0": {
          "model_module": "@jupyter-widgets/controls",
          "model_name": "FloatProgressModel",
          "model_module_version": "1.5.0",
          "state": {
            "_view_name": "ProgressView",
            "style": "IPY_MODEL_4997d4640a7b4e4bbfc8e68128ac8f31",
            "_dom_classes": [],
            "description": "",
            "_model_name": "FloatProgressModel",
            "bar_style": "success",
            "max": 169001437,
            "_view_module": "@jupyter-widgets/controls",
            "_model_module_version": "1.5.0",
            "value": 169001437,
            "_view_count": null,
            "_view_module_version": "1.5.0",
            "orientation": "horizontal",
            "min": 0,
            "description_tooltip": null,
            "_model_module": "@jupyter-widgets/controls",
            "layout": "IPY_MODEL_f2daf56f296a47a0b40581300744bd4f"
          }
        },
        "90c763ac653e484ea966f371e874807e": {
          "model_module": "@jupyter-widgets/controls",
          "model_name": "HTMLModel",
          "model_module_version": "1.5.0",
          "state": {
            "_view_name": "HTMLView",
            "style": "IPY_MODEL_9ea56d4cea7947969f8c133a3f308ec1",
            "_dom_classes": [],
            "description": "",
            "_model_name": "HTMLModel",
            "placeholder": "​",
            "_view_module": "@jupyter-widgets/controls",
            "_model_module_version": "1.5.0",
            "value": " 169001984/? [00:10&lt;00:00, 17912421.68it/s]",
            "_view_count": null,
            "_view_module_version": "1.5.0",
            "description_tooltip": null,
            "_model_module": "@jupyter-widgets/controls",
            "layout": "IPY_MODEL_64ba973181cd439db01aa2315a501781"
          }
        },
        "149fe49bbea84974ad983bb6be68474d": {
          "model_module": "@jupyter-widgets/controls",
          "model_name": "DescriptionStyleModel",
          "model_module_version": "1.5.0",
          "state": {
            "_view_name": "StyleView",
            "_model_name": "DescriptionStyleModel",
            "description_width": "",
            "_view_module": "@jupyter-widgets/base",
            "_model_module_version": "1.5.0",
            "_view_count": null,
            "_view_module_version": "1.2.0",
            "_model_module": "@jupyter-widgets/controls"
          }
        },
        "a487d166b5ad4eb2a1064e4d99cba2ff": {
          "model_module": "@jupyter-widgets/base",
          "model_name": "LayoutModel",
          "model_module_version": "1.2.0",
          "state": {
            "_view_name": "LayoutView",
            "grid_template_rows": null,
            "right": null,
            "justify_content": null,
            "_view_module": "@jupyter-widgets/base",
            "overflow": null,
            "_model_module_version": "1.2.0",
            "_view_count": null,
            "flex_flow": null,
            "width": null,
            "min_width": null,
            "border": null,
            "align_items": null,
            "bottom": null,
            "_model_module": "@jupyter-widgets/base",
            "top": null,
            "grid_column": null,
            "overflow_y": null,
            "overflow_x": null,
            "grid_auto_flow": null,
            "grid_area": null,
            "grid_template_columns": null,
            "flex": null,
            "_model_name": "LayoutModel",
            "justify_items": null,
            "grid_row": null,
            "max_height": null,
            "align_content": null,
            "visibility": null,
            "align_self": null,
            "height": null,
            "min_height": null,
            "padding": null,
            "grid_auto_rows": null,
            "grid_gap": null,
            "max_width": null,
            "order": null,
            "_view_module_version": "1.2.0",
            "grid_template_areas": null,
            "object_position": null,
            "object_fit": null,
            "grid_auto_columns": null,
            "margin": null,
            "display": null,
            "left": null
          }
        },
        "4997d4640a7b4e4bbfc8e68128ac8f31": {
          "model_module": "@jupyter-widgets/controls",
          "model_name": "ProgressStyleModel",
          "model_module_version": "1.5.0",
          "state": {
            "_view_name": "StyleView",
            "_model_name": "ProgressStyleModel",
            "description_width": "",
            "_view_module": "@jupyter-widgets/base",
            "_model_module_version": "1.5.0",
            "_view_count": null,
            "_view_module_version": "1.2.0",
            "bar_color": null,
            "_model_module": "@jupyter-widgets/controls"
          }
        },
        "f2daf56f296a47a0b40581300744bd4f": {
          "model_module": "@jupyter-widgets/base",
          "model_name": "LayoutModel",
          "model_module_version": "1.2.0",
          "state": {
            "_view_name": "LayoutView",
            "grid_template_rows": null,
            "right": null,
            "justify_content": null,
            "_view_module": "@jupyter-widgets/base",
            "overflow": null,
            "_model_module_version": "1.2.0",
            "_view_count": null,
            "flex_flow": null,
            "width": null,
            "min_width": null,
            "border": null,
            "align_items": null,
            "bottom": null,
            "_model_module": "@jupyter-widgets/base",
            "top": null,
            "grid_column": null,
            "overflow_y": null,
            "overflow_x": null,
            "grid_auto_flow": null,
            "grid_area": null,
            "grid_template_columns": null,
            "flex": null,
            "_model_name": "LayoutModel",
            "justify_items": null,
            "grid_row": null,
            "max_height": null,
            "align_content": null,
            "visibility": null,
            "align_self": null,
            "height": null,
            "min_height": null,
            "padding": null,
            "grid_auto_rows": null,
            "grid_gap": null,
            "max_width": null,
            "order": null,
            "_view_module_version": "1.2.0",
            "grid_template_areas": null,
            "object_position": null,
            "object_fit": null,
            "grid_auto_columns": null,
            "margin": null,
            "display": null,
            "left": null
          }
        },
        "9ea56d4cea7947969f8c133a3f308ec1": {
          "model_module": "@jupyter-widgets/controls",
          "model_name": "DescriptionStyleModel",
          "model_module_version": "1.5.0",
          "state": {
            "_view_name": "StyleView",
            "_model_name": "DescriptionStyleModel",
            "description_width": "",
            "_view_module": "@jupyter-widgets/base",
            "_model_module_version": "1.5.0",
            "_view_count": null,
            "_view_module_version": "1.2.0",
            "_model_module": "@jupyter-widgets/controls"
          }
        },
        "64ba973181cd439db01aa2315a501781": {
          "model_module": "@jupyter-widgets/base",
          "model_name": "LayoutModel",
          "model_module_version": "1.2.0",
          "state": {
            "_view_name": "LayoutView",
            "grid_template_rows": null,
            "right": null,
            "justify_content": null,
            "_view_module": "@jupyter-widgets/base",
            "overflow": null,
            "_model_module_version": "1.2.0",
            "_view_count": null,
            "flex_flow": null,
            "width": null,
            "min_width": null,
            "border": null,
            "align_items": null,
            "bottom": null,
            "_model_module": "@jupyter-widgets/base",
            "top": null,
            "grid_column": null,
            "overflow_y": null,
            "overflow_x": null,
            "grid_auto_flow": null,
            "grid_area": null,
            "grid_template_columns": null,
            "flex": null,
            "_model_name": "LayoutModel",
            "justify_items": null,
            "grid_row": null,
            "max_height": null,
            "align_content": null,
            "visibility": null,
            "align_self": null,
            "height": null,
            "min_height": null,
            "padding": null,
            "grid_auto_rows": null,
            "grid_gap": null,
            "max_width": null,
            "order": null,
            "_view_module_version": "1.2.0",
            "grid_template_areas": null,
            "object_position": null,
            "object_fit": null,
            "grid_auto_columns": null,
            "margin": null,
            "display": null,
            "left": null
          }
        },
        "5988ed5ee1f04588a2dc996c766020b4": {
          "model_module": "@jupyter-widgets/controls",
          "model_name": "HBoxModel",
          "model_module_version": "1.5.0",
          "state": {
            "_view_name": "HBoxView",
            "_dom_classes": [],
            "_model_name": "HBoxModel",
            "_view_module": "@jupyter-widgets/controls",
            "_model_module_version": "1.5.0",
            "_view_count": null,
            "_view_module_version": "1.5.0",
            "box_style": "",
            "layout": "IPY_MODEL_c2d746683c144d4e9073817e0c015637",
            "_model_module": "@jupyter-widgets/controls",
            "children": [
              "IPY_MODEL_469e287d570245cca3957799b592236e",
              "IPY_MODEL_737c706df9e2418bb5968c388b3c23bb",
              "IPY_MODEL_ab3e1648e71d468893461635020b1f95"
            ]
          }
        },
        "c2d746683c144d4e9073817e0c015637": {
          "model_module": "@jupyter-widgets/base",
          "model_name": "LayoutModel",
          "model_module_version": "1.2.0",
          "state": {
            "_view_name": "LayoutView",
            "grid_template_rows": null,
            "right": null,
            "justify_content": null,
            "_view_module": "@jupyter-widgets/base",
            "overflow": null,
            "_model_module_version": "1.2.0",
            "_view_count": null,
            "flex_flow": null,
            "width": null,
            "min_width": null,
            "border": null,
            "align_items": null,
            "bottom": null,
            "_model_module": "@jupyter-widgets/base",
            "top": null,
            "grid_column": null,
            "overflow_y": null,
            "overflow_x": null,
            "grid_auto_flow": null,
            "grid_area": null,
            "grid_template_columns": null,
            "flex": null,
            "_model_name": "LayoutModel",
            "justify_items": null,
            "grid_row": null,
            "max_height": null,
            "align_content": null,
            "visibility": null,
            "align_self": null,
            "height": null,
            "min_height": null,
            "padding": null,
            "grid_auto_rows": null,
            "grid_gap": null,
            "max_width": null,
            "order": null,
            "_view_module_version": "1.2.0",
            "grid_template_areas": null,
            "object_position": null,
            "object_fit": null,
            "grid_auto_columns": null,
            "margin": null,
            "display": null,
            "left": null
          }
        },
        "469e287d570245cca3957799b592236e": {
          "model_module": "@jupyter-widgets/controls",
          "model_name": "HTMLModel",
          "model_module_version": "1.5.0",
          "state": {
            "_view_name": "HTMLView",
            "style": "IPY_MODEL_2df7f4b51026441596a69ef5ce0501ca",
            "_dom_classes": [],
            "description": "",
            "_model_name": "HTMLModel",
            "placeholder": "​",
            "_view_module": "@jupyter-widgets/controls",
            "_model_module_version": "1.5.0",
            "value": "100%",
            "_view_count": null,
            "_view_module_version": "1.5.0",
            "description_tooltip": null,
            "_model_module": "@jupyter-widgets/controls",
            "layout": "IPY_MODEL_0a2df53f0a58425da91eda7c71c3b43f"
          }
        },
        "737c706df9e2418bb5968c388b3c23bb": {
          "model_module": "@jupyter-widgets/controls",
          "model_name": "FloatProgressModel",
          "model_module_version": "1.5.0",
          "state": {
            "_view_name": "ProgressView",
            "style": "IPY_MODEL_cd5a2e641bac4044b750b80c6057b8f1",
            "_dom_classes": [],
            "description": "",
            "_model_name": "FloatProgressModel",
            "bar_style": "success",
            "max": 531460341,
            "_view_module": "@jupyter-widgets/controls",
            "_model_module_version": "1.5.0",
            "value": 531460341,
            "_view_count": null,
            "_view_module_version": "1.5.0",
            "orientation": "horizontal",
            "min": 0,
            "description_tooltip": null,
            "_model_module": "@jupyter-widgets/controls",
            "layout": "IPY_MODEL_a6357082802144ffb28197e17a035f38"
          }
        },
        "ab3e1648e71d468893461635020b1f95": {
          "model_module": "@jupyter-widgets/controls",
          "model_name": "HTMLModel",
          "model_module_version": "1.5.0",
          "state": {
            "_view_name": "HTMLView",
            "style": "IPY_MODEL_b949f3651052432fa607ac0c92fb2682",
            "_dom_classes": [],
            "description": "",
            "_model_name": "HTMLModel",
            "placeholder": "​",
            "_view_module": "@jupyter-widgets/controls",
            "_model_module_version": "1.5.0",
            "value": " 507M/507M [00:07&lt;00:00, 72.5MB/s]",
            "_view_count": null,
            "_view_module_version": "1.5.0",
            "description_tooltip": null,
            "_model_module": "@jupyter-widgets/controls",
            "layout": "IPY_MODEL_0a16023c1ea3415a8810dee49d2ac35e"
          }
        },
        "2df7f4b51026441596a69ef5ce0501ca": {
          "model_module": "@jupyter-widgets/controls",
          "model_name": "DescriptionStyleModel",
          "model_module_version": "1.5.0",
          "state": {
            "_view_name": "StyleView",
            "_model_name": "DescriptionStyleModel",
            "description_width": "",
            "_view_module": "@jupyter-widgets/base",
            "_model_module_version": "1.5.0",
            "_view_count": null,
            "_view_module_version": "1.2.0",
            "_model_module": "@jupyter-widgets/controls"
          }
        },
        "0a2df53f0a58425da91eda7c71c3b43f": {
          "model_module": "@jupyter-widgets/base",
          "model_name": "LayoutModel",
          "model_module_version": "1.2.0",
          "state": {
            "_view_name": "LayoutView",
            "grid_template_rows": null,
            "right": null,
            "justify_content": null,
            "_view_module": "@jupyter-widgets/base",
            "overflow": null,
            "_model_module_version": "1.2.0",
            "_view_count": null,
            "flex_flow": null,
            "width": null,
            "min_width": null,
            "border": null,
            "align_items": null,
            "bottom": null,
            "_model_module": "@jupyter-widgets/base",
            "top": null,
            "grid_column": null,
            "overflow_y": null,
            "overflow_x": null,
            "grid_auto_flow": null,
            "grid_area": null,
            "grid_template_columns": null,
            "flex": null,
            "_model_name": "LayoutModel",
            "justify_items": null,
            "grid_row": null,
            "max_height": null,
            "align_content": null,
            "visibility": null,
            "align_self": null,
            "height": null,
            "min_height": null,
            "padding": null,
            "grid_auto_rows": null,
            "grid_gap": null,
            "max_width": null,
            "order": null,
            "_view_module_version": "1.2.0",
            "grid_template_areas": null,
            "object_position": null,
            "object_fit": null,
            "grid_auto_columns": null,
            "margin": null,
            "display": null,
            "left": null
          }
        },
        "cd5a2e641bac4044b750b80c6057b8f1": {
          "model_module": "@jupyter-widgets/controls",
          "model_name": "ProgressStyleModel",
          "model_module_version": "1.5.0",
          "state": {
            "_view_name": "StyleView",
            "_model_name": "ProgressStyleModel",
            "description_width": "",
            "_view_module": "@jupyter-widgets/base",
            "_model_module_version": "1.5.0",
            "_view_count": null,
            "_view_module_version": "1.2.0",
            "bar_color": null,
            "_model_module": "@jupyter-widgets/controls"
          }
        },
        "a6357082802144ffb28197e17a035f38": {
          "model_module": "@jupyter-widgets/base",
          "model_name": "LayoutModel",
          "model_module_version": "1.2.0",
          "state": {
            "_view_name": "LayoutView",
            "grid_template_rows": null,
            "right": null,
            "justify_content": null,
            "_view_module": "@jupyter-widgets/base",
            "overflow": null,
            "_model_module_version": "1.2.0",
            "_view_count": null,
            "flex_flow": null,
            "width": null,
            "min_width": null,
            "border": null,
            "align_items": null,
            "bottom": null,
            "_model_module": "@jupyter-widgets/base",
            "top": null,
            "grid_column": null,
            "overflow_y": null,
            "overflow_x": null,
            "grid_auto_flow": null,
            "grid_area": null,
            "grid_template_columns": null,
            "flex": null,
            "_model_name": "LayoutModel",
            "justify_items": null,
            "grid_row": null,
            "max_height": null,
            "align_content": null,
            "visibility": null,
            "align_self": null,
            "height": null,
            "min_height": null,
            "padding": null,
            "grid_auto_rows": null,
            "grid_gap": null,
            "max_width": null,
            "order": null,
            "_view_module_version": "1.2.0",
            "grid_template_areas": null,
            "object_position": null,
            "object_fit": null,
            "grid_auto_columns": null,
            "margin": null,
            "display": null,
            "left": null
          }
        },
        "b949f3651052432fa607ac0c92fb2682": {
          "model_module": "@jupyter-widgets/controls",
          "model_name": "DescriptionStyleModel",
          "model_module_version": "1.5.0",
          "state": {
            "_view_name": "StyleView",
            "_model_name": "DescriptionStyleModel",
            "description_width": "",
            "_view_module": "@jupyter-widgets/base",
            "_model_module_version": "1.5.0",
            "_view_count": null,
            "_view_module_version": "1.2.0",
            "_model_module": "@jupyter-widgets/controls"
          }
        },
        "0a16023c1ea3415a8810dee49d2ac35e": {
          "model_module": "@jupyter-widgets/base",
          "model_name": "LayoutModel",
          "model_module_version": "1.2.0",
          "state": {
            "_view_name": "LayoutView",
            "grid_template_rows": null,
            "right": null,
            "justify_content": null,
            "_view_module": "@jupyter-widgets/base",
            "overflow": null,
            "_model_module_version": "1.2.0",
            "_view_count": null,
            "flex_flow": null,
            "width": null,
            "min_width": null,
            "border": null,
            "align_items": null,
            "bottom": null,
            "_model_module": "@jupyter-widgets/base",
            "top": null,
            "grid_column": null,
            "overflow_y": null,
            "overflow_x": null,
            "grid_auto_flow": null,
            "grid_area": null,
            "grid_template_columns": null,
            "flex": null,
            "_model_name": "LayoutModel",
            "justify_items": null,
            "grid_row": null,
            "max_height": null,
            "align_content": null,
            "visibility": null,
            "align_self": null,
            "height": null,
            "min_height": null,
            "padding": null,
            "grid_auto_rows": null,
            "grid_gap": null,
            "max_width": null,
            "order": null,
            "_view_module_version": "1.2.0",
            "grid_template_areas": null,
            "object_position": null,
            "object_fit": null,
            "grid_auto_columns": null,
            "margin": null,
            "display": null,
            "left": null
          }
        }
      }
    }
  },
  "nbformat": 4,
  "nbformat_minor": 0
}